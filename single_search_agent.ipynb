{
 "cells": [
  {
   "cell_type": "code",
   "execution_count": 1,
   "id": "5255523b",
   "metadata": {},
   "outputs": [],
   "source": [
    "import logging\n",
    "from dotenv import load_dotenv\n",
    "\n",
    "from semantic_kernel import Kernel\n",
    "from semantic_kernel.agents import ChatCompletionAgent, ChatHistoryAgentThread\n",
    "from semantic_kernel.connectors.ai.open_ai import AzureChatCompletion\n",
    "\n",
    "# Load environment variables from .env file\n",
    "load_dotenv()\n",
    "\n",
    "# NOTE: This is all that is required to enable logging.\n",
    "# Set the desired level to INFO, DEBUG, etc.\n",
    "logging.basicConfig(level=logging.WARNING)"
   ]
  },
  {
   "cell_type": "code",
   "execution_count": 2,
   "id": "c2f61bbf",
   "metadata": {},
   "outputs": [
    {
     "data": {
      "text/plain": [
       "KernelPlugin(name='search', description=None, functions={'search': KernelFunctionFromMethod(metadata=KernelFunctionMetadata(name='search', plugin_name='search', description='Searches the internet for information.', parameters=[KernelParameterMetadata(name='query', description='The input text', default_value=None, type_='str', is_required=True, type_object=<class 'str'>, schema_data={'type': 'string', 'description': 'The input text'}, include_in_function_choices=True)], is_prompt=False, is_asynchronous=True, return_parameter=KernelParameterMetadata(name='return', description='Returns the results from the internet search.', default_value=None, type_=\"<module 'json' from '/usr/local/lib/python3.12/json/__init__.py'>\", is_required=True, type_object=None, schema_data={'type': 'object', 'description': 'Returns the results from the internet search.'}, include_in_function_choices=True), additional_properties={}), invocation_duration_histogram=<opentelemetry.metrics._internal.instrument._ProxyHistogram object at 0x754ff714ef90>, streaming_duration_histogram=<opentelemetry.metrics._internal.instrument._ProxyHistogram object at 0x754ff714e420>, method=<bound method SearchPlugin.search of <search.SearchPlugin object at 0x754ff704e540>>, stream_method=None)})"
      ]
     },
     "execution_count": 2,
     "metadata": {},
     "output_type": "execute_result"
    }
   ],
   "source": [
    "# Create and configure the kernel.\n",
    "from search import SearchPlugin\n",
    "\n",
    "kernel = Kernel()\n",
    "\n",
    "kernel.add_plugin(SearchPlugin(), plugin_name=\"search\")\n",
    "\n",
    "# The filter is used for demonstration purposes to show the function invocation.\n",
    "#kernel.add_filter(\"function_invocation\", function_invocation_filter)"
   ]
  },
  {
   "cell_type": "code",
   "execution_count": 3,
   "id": "034167c5",
   "metadata": {},
   "outputs": [],
   "source": [
    "# Create the Coordinator agent. NOTE:The name of the agent must not contain spaces.\n",
    "search_agent = ChatCompletionAgent(\n",
    "    service=AzureChatCompletion(deployment_name=\"gpt-4o-mini\"),\n",
    "    name=\"SearchAgent\",\n",
    "    instructions=(\n",
    "    \"\"\"\n",
    "    Your role is to search for information using Search to find relevant data and provide a summary of the results.\n",
    "    \"\"\"),\n",
    "    plugins=[\n",
    "        SearchPlugin(),\n",
    "    ],\n",
    ")"
   ]
  },
  {
   "cell_type": "code",
   "execution_count": 4,
   "id": "817b6d5f",
   "metadata": {},
   "outputs": [
    {
     "name": "stdout",
     "output_type": "stream",
     "text": [
      "Performing search...\n",
      "Query: 2025 NCAA Men's Basketball Championship winner\n",
      "Agent :> The 2025 NCAA Men's Basketball Championship was won by the Florida Gators, who defeated the Houston Cougars with a score of 65-63. This victory marked Florida's first national championship since 2007. For further details, you can check out the articles from [USA Today](https://www.usatoday.com/story/sports/ncaab/2025/04/08/who-won-march-madness-2025-florida-houston-score/82986367007/) and [Bleacher Report](https://bleacherreport.com/articles/25182096-winners-and-losers-2025-mens-ncaa-tournament).\n"
     ]
    }
   ],
   "source": [
    "thread: ChatHistoryAgentThread = None\n",
    "\n",
    "response = await search_agent.get_response(messages=\"Who won the 2025 NCAA Mens Basketball Championship?\", thread=thread)\n",
    "\n",
    "if response:\n",
    "    print(f\"Agent :> {response}\")\n",
    "\n",
    "await thread.delete() if thread else None"
   ]
  }
 ],
 "metadata": {
  "kernelspec": {
   "display_name": "Python 3",
   "language": "python",
   "name": "python3"
  },
  "language_info": {
   "codemirror_mode": {
    "name": "ipython",
    "version": 3
   },
   "file_extension": ".py",
   "mimetype": "text/x-python",
   "name": "python",
   "nbconvert_exporter": "python",
   "pygments_lexer": "ipython3",
   "version": "3.12.10"
  }
 },
 "nbformat": 4,
 "nbformat_minor": 5
}
