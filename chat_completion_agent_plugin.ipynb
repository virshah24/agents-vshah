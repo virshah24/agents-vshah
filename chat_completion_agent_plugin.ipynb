{
 "cells": [
  {
   "cell_type": "code",
   "execution_count": 1,
   "id": "c4c194cf",
   "metadata": {},
   "outputs": [],
   "source": [
    "# Copyright (c) Microsoft. All rights reserved.\n",
    "import logging\n",
    "import json\n",
    "import textwrap\n",
    "import re\n",
    "\n",
    "from dotenv import load_dotenv\n",
    "\n",
    "import asyncio\n",
    "from typing import Annotated\n",
    "\n",
    "from semantic_kernel.agents import ChatCompletionAgent, ChatHistoryAgentThread\n",
    "from semantic_kernel.connectors.ai.open_ai import AzureChatCompletion\n",
    "from semantic_kernel.functions import kernel_function\n",
    "\n",
    "\"\"\"\n",
    "The following sample demonstrates how to create a chat completion agent that\n",
    "answers questions about a sample menu using a Semantic Kernel Plugin. The Chat\n",
    "Completion Service is passed directly via the ChatCompletionAgent constructor.\n",
    "Additionally, the plugin is supplied via the constructor.\n",
    "\"\"\"\n",
    "\n",
    "# Load environment variables from .env file\n",
    "load_dotenv()\n",
    "\n",
    "# NOTE: This is all that is required to enable logging.\n",
    "# Set the desired level to INFO, DEBUG, etc.\n",
    "logging.basicConfig(level=logging.WARNING)"
   ]
  },
  {
   "cell_type": "code",
   "execution_count": 2,
   "id": "2430dd3e",
   "metadata": {},
   "outputs": [
    {
     "name": "stdout",
     "output_type": "stream",
     "text": [
      "# User: Hello\n",
      "# Host: Hello! How can I assist you today? \n",
      "# User: What is the special soup?\n",
      "# Host: The special soup is Clam Chowder. Would you like to know more about the menu or anything else? \n",
      "# User: What does that cost?\n",
      "# Host: The Clam Chowder costs $9.99. If you have any more questions or need further assistance, feel free to ask! \n",
      "# User: Thank you\n",
      "# Host: You're welcome! If you need anything else, just let me know. Enjoy your day! \n"
     ]
    },
    {
     "data": {
      "text/plain": [
       "\"\\nSample output:\\n# User: Hello\\n# Host: Hello! How can I assist you today?\\n# User: What is the special soup?\\n# Host: The special soup is Clam Chowder.\\n# User: What does that cost?\\n# Host: The special soup, Clam Chowder, costs $9.99.\\n# User: Thank you\\n# Host: You're welcome! If you have any more questions, feel free to ask. Enjoy your day!\\n\""
      ]
     },
     "execution_count": 2,
     "metadata": {},
     "output_type": "execute_result"
    }
   ],
   "source": [
    "# Define a sample plugin for the sample\n",
    "class MenuPlugin:\n",
    "    \"\"\"A sample Menu Plugin used for the concept sample.\"\"\"\n",
    "\n",
    "    @kernel_function(description=\"Provides a list of specials from the menu.\")\n",
    "    def get_specials(self) -> Annotated[str, \"Returns the specials from the menu.\"]:\n",
    "        return \"\"\"\n",
    "        Special Soup: Clam Chowder\n",
    "        Special Salad: Cobb Salad\n",
    "        Special Drink: Chai Tea\n",
    "        \"\"\"\n",
    "\n",
    "    @kernel_function(description=\"Provides the price of the requested menu item.\")\n",
    "    def get_item_price(\n",
    "        self, menu_item: Annotated[str, \"The name of the menu item.\"]\n",
    "    ) -> Annotated[str, \"Returns the price of the menu item.\"]:\n",
    "        return \"$9.99\"\n",
    "\n",
    "\n",
    "# Simulate a conversation with the agent\n",
    "USER_INPUTS = [\n",
    "    \"Hello\",\n",
    "    \"What is the special soup?\",\n",
    "    \"What does that cost?\",\n",
    "    \"Thank you\",\n",
    "]\n",
    "\n",
    "# 1. Create the agent\n",
    "agent = ChatCompletionAgent(\n",
    "    service=AzureChatCompletion(deployment_name=\"gpt-4o-mini\"),\n",
    "    name=\"Host\",\n",
    "    instructions=\"Answer questions about the menu.\",\n",
    "    plugins=[MenuPlugin()],\n",
    ")\n",
    "\n",
    "# 2. Create a thread to hold the conversation\n",
    "# If no thread is provided, a new thread will be\n",
    "# created and returned with the initial response\n",
    "thread: ChatHistoryAgentThread = None\n",
    "\n",
    "for user_input in USER_INPUTS:\n",
    "    print(f\"# User: {user_input}\")\n",
    "    # 4. Invoke the agent for a response\n",
    "    response = await agent.get_response(messages=user_input, thread=thread)\n",
    "    print(f\"# {response.name}: {response} \")\n",
    "    thread = response.thread\n",
    "\n",
    "# 4. Cleanup: Clear the thread\n",
    "await thread.delete() if thread else None\n",
    "\n",
    "\"\"\"\n",
    "Sample output:\n",
    "# User: Hello\n",
    "# Host: Hello! How can I assist you today?\n",
    "# User: What is the special soup?\n",
    "# Host: The special soup is Clam Chowder.\n",
    "# User: What does that cost?\n",
    "# Host: The special soup, Clam Chowder, costs $9.99.\n",
    "# User: Thank you\n",
    "# Host: You're welcome! If you have any more questions, feel free to ask. Enjoy your day!\n",
    "\"\"\"\n"
   ]
  }
 ],
 "metadata": {
  "kernelspec": {
   "display_name": "Python 3",
   "language": "python",
   "name": "python3"
  },
  "language_info": {
   "codemirror_mode": {
    "name": "ipython",
    "version": 3
   },
   "file_extension": ".py",
   "mimetype": "text/x-python",
   "name": "python",
   "nbconvert_exporter": "python",
   "pygments_lexer": "ipython3",
   "version": "3.12.10"
  }
 },
 "nbformat": 4,
 "nbformat_minor": 5
}
