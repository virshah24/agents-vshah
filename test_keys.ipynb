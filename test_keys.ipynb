{
 "cells": [
  {
   "cell_type": "code",
   "execution_count": 1,
   "metadata": {},
   "outputs": [
    {
     "data": {
      "text/plain": [
       "True"
      ]
     },
     "execution_count": 1,
     "metadata": {},
     "output_type": "execute_result"
    }
   ],
   "source": [
    "from openai import AzureOpenAI\n",
    "from dotenv import load_dotenv\n",
    "import os\n",
    "\n",
    "# Load environment variables from .env file\n",
    "load_dotenv()"
   ]
  },
  {
   "cell_type": "code",
   "execution_count": 2,
   "metadata": {},
   "outputs": [
    {
     "name": "stdout",
     "output_type": "stream",
     "text": [
      "ExvHkwEqmSMsT4EBWwQJI6U16Z3W58Ycno9nrpFdzSOgQYTV2DY4JQQJ99BEACYeBjFXJ3w3AAABACOGgFHw\n",
      "https://openai1-gagh2f4dc5mje.openai.azure.com/\n"
     ]
    }
   ],
   "source": [
    "api_key = os.environ.get('AZURE_OPENAI_API_KEY', '')\n",
    "api_endpoint = os.environ.get('AZURE_OPENAI_ENDPOINT', '')\n",
    "print(api_key)\n",
    "print(api_endpoint)"
   ]
  },
  {
   "cell_type": "code",
   "execution_count": 3,
   "metadata": {},
   "outputs": [
    {
     "name": "stdout",
     "output_type": "stream",
     "text": [
      "This endpoint was successful: https://openai1-gagh2f4dc5mje.openai.azure.com/\n"
     ]
    }
   ],
   "source": [
    "api_key = os.environ.get('AZURE_OPENAI_API_KEY', '')\n",
    "api_endpoint = os.environ.get('AZURE_OPENAI_ENDPOINT', '')\n",
    "\n",
    "client = AzureOpenAI(\n",
    "    api_version='2024-05-01-preview',\n",
    "    api_key=api_key,\n",
    "    # https://learn.microsoft.com/en-us/azure/cognitive-services/openai/how-to/create-resource?pivots=web-portal#create-a-resource\n",
    "    azure_endpoint=api_endpoint,\n",
    ")\n",
    "\n",
    "# Lets try this and if it does not work, throw an error\n",
    "try:\n",
    "    completion = client.chat.completions.create(\n",
    "        model=\"gpt-4o-mini\",  # e.g. gpt-35-instant\n",
    "        messages=[\n",
    "            {\n",
    "                \"role\": \"user\",\n",
    "                \"content\": \"What is the atomic weight of carbon?\",\n",
    "            },\n",
    "        ],\n",
    "    )\n",
    "\n",
    "    print(f\"This endpoint was successful: {api_endpoint}\")\n",
    "except Exception as e:\n",
    "    print(f\"An error occurred: {e}\")\n",
    "    print(f\"This endpoint failed: {api_endpoint}\")\n",
    "    print(\"Please check your API key and endpoint.\")"
   ]
  }
 ],
 "metadata": {
  "kernelspec": {
   "display_name": "Python 3",
   "language": "python",
   "name": "python3"
  },
  "language_info": {
   "codemirror_mode": {
    "name": "ipython",
    "version": 3
   },
   "file_extension": ".py",
   "mimetype": "text/x-python",
   "name": "python",
   "nbconvert_exporter": "python",
   "pygments_lexer": "ipython3",
   "version": "3.12.10"
  }
 },
 "nbformat": 4,
 "nbformat_minor": 2
}
